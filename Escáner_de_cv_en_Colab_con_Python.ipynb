{
  "nbformat": 4,
  "nbformat_minor": 0,
  "metadata": {
    "colab": {
      "provenance": [],
      "authorship_tag": "ABX9TyNiS6EtcgchkdDVrtOoK4lz",
      "include_colab_link": true
    },
    "kernelspec": {
      "name": "python3",
      "display_name": "Python 3"
    },
    "language_info": {
      "name": "python"
    }
  },
  "cells": [
    {
      "cell_type": "markdown",
      "metadata": {
        "id": "view-in-github",
        "colab_type": "text"
      },
      "source": [
        "<a href=\"https://colab.research.google.com/github/Orliluq/Escaner-de-cv-en-Colab-con-Python/blob/main/Esc%C3%A1ner_de_cv_en_Colab_con_Python.ipynb\" target=\"_parent\"><img src=\"https://colab.research.google.com/assets/colab-badge.svg\" alt=\"Open In Colab\"/></a>"
      ]
    },
    {
      "cell_type": "markdown",
      "source": [
        "Importar las bibliotecas necesarias"
      ],
      "metadata": {
        "id": "Y5jgxJ6ty0LT"
      }
    },
    {
      "cell_type": "code",
      "execution_count": 1,
      "metadata": {
        "id": "jTc7oFJbwwJ7"
      },
      "outputs": [],
      "source": [
        "import re\n",
        "from sklearn.feature_extraction.text import CountVectorizer\n",
        "from sklearn.metrics.pairwise import cosine_similarity"
      ]
    },
    {
      "cell_type": "markdown",
      "source": [
        "Definir la descripción del trabajo y los currículums de muestra"
      ],
      "metadata": {
        "id": "BTr-YwM-y4q6"
      }
    },
    {
      "cell_type": "code",
      "source": [
        "descripcion_trabajo = \"Lorem ipsum dolor sit amet, consectetur adipiscing elit. Sed vitae lectus at risus tempor hendrerit. Proin accumsan, felis vitae pulvinar hendrerit, est turpis aliquet nisl, ut pretium est sem eget erat.\"\n",
        "\n",
        "curriculums = [\n",
        "    \"Lorem ipsum dolor sit amet, consectetur adipiscing elit.\",\n",
        "    \"Vivamus vitae mi elit. In nec leo mi. Sed ultrices, mi id tincidunt lacinia, tortor nunc rhoncus nunc, nec vestibulum ante massa vitae ex.\",\n",
        "    \"Fusce efficitur dolor id scelerisque aliquam. Nam aliquam in lorem id molestie.\",\n",
        "    \"In ac libero sit amet nisl venenatis pellentesque. Quisque lorem arcu, bibendum vitae aliquet nec, eleifend at tortor.\",\n",
        "    \"Sed vel neque sed elit aliquet molestie. Ut id mauris nec augue tincidunt lobortis.\"\n",
        "]"
      ],
      "metadata": {
        "id": "VwemubGcwzJe"
      },
      "execution_count": 2,
      "outputs": []
    },
    {
      "cell_type": "markdown",
      "source": [
        "Preprocesar los textos eliminando caracteres no deseados y convirtiendo todo a minúsculas"
      ],
      "metadata": {
        "id": "UQLSpPb4y9Qj"
      }
    },
    {
      "cell_type": "code",
      "source": [
        "def preprocess_text(text):\n",
        "    processed_text = re.sub(r'[^a-zA-Z0-9\\s]', '', text.lower())\n",
        "    return processed_text\n",
        "\n",
        "descripcion_trabajo = preprocess_text(descripcion_trabajo)\n",
        "curriculums = [preprocess_text(curriculum) for curriculum in curriculums]"
      ],
      "metadata": {
        "id": "TLCBswJVw2Cu"
      },
      "execution_count": 3,
      "outputs": []
    },
    {
      "cell_type": "markdown",
      "source": [
        "Crear un vectorizador de palabras y ajustar los datos"
      ],
      "metadata": {
        "id": "G8uKmta-zEFi"
      }
    },
    {
      "cell_type": "code",
      "source": [
        "vectorizer = CountVectorizer().fit([descripcion_trabajo] + curriculums)\n",
        "descripcion_trabajo_vector = vectorizer.transform([descripcion_trabajo])\n",
        "curriculums_vectors = vectorizer.transform(curriculums)"
      ],
      "metadata": {
        "id": "mUVfJ12Iw24N"
      },
      "execution_count": 4,
      "outputs": []
    },
    {
      "cell_type": "markdown",
      "source": [
        "Calcular la similitud coseno entre la descripción del trabajo y cada currículum"
      ],
      "metadata": {
        "id": "HbfOepA-zG7i"
      }
    },
    {
      "cell_type": "code",
      "source": [
        "similarity_scores = cosine_similarity(descripcion_trabajo_vector, curriculums_vectors)[0]"
      ],
      "metadata": {
        "id": "jSv12K33w5UW"
      },
      "execution_count": 5,
      "outputs": []
    },
    {
      "cell_type": "markdown",
      "source": [
        "Imprimir los resultados ordenados por puntuación de similitud"
      ],
      "metadata": {
        "id": "AdXRuyVpzLdS"
      }
    },
    {
      "cell_type": "code",
      "source": [
        "results = sorted(zip(curriculums, similarity_scores), key=lambda x: x[1], reverse=True)\n",
        "for result in results:\n",
        "    print(f\"Similitud: {result[1]:.2f}\\nCurrículum: {result[0]}\\n\")"
      ],
      "metadata": {
        "colab": {
          "base_uri": "https://localhost:8080/"
        },
        "id": "ocUMScdFw8HG",
        "outputId": "98f9fc00-9d3a-45f9-abcc-63a061620d11"
      },
      "execution_count": 6,
      "outputs": [
        {
          "output_type": "stream",
          "name": "stdout",
          "text": [
            "Similitud: 0.46\n",
            "Currículum: lorem ipsum dolor sit amet consectetur adipiscing elit\n",
            "\n",
            "Similitud: 0.31\n",
            "Currículum: in ac libero sit amet nisl venenatis pellentesque quisque lorem arcu bibendum vitae aliquet nec eleifend at tortor\n",
            "\n",
            "Similitud: 0.21\n",
            "Currículum: sed vel neque sed elit aliquet molestie ut id mauris nec augue tincidunt lobortis\n",
            "\n",
            "Similitud: 0.16\n",
            "Currículum: vivamus vitae mi elit in nec leo mi sed ultrices mi id tincidunt lacinia tortor nunc rhoncus nunc nec vestibulum ante massa vitae ex\n",
            "\n",
            "Similitud: 0.08\n",
            "Currículum: fusce efficitur dolor id scelerisque aliquam nam aliquam in lorem id molestie\n",
            "\n"
          ]
        }
      ]
    }
  ]
}